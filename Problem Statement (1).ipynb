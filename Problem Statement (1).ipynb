{
 "cells": [
  {
   "cell_type": "markdown",
   "metadata": {
    "collapsed": true
   },
   "source": [
    "# Sentiment Analysis by Venues"
   ]
  },
  {
   "cell_type": "markdown",
   "metadata": {},
   "source": [
    "## Business Problem"
   ]
  },
  {
   "cell_type": "markdown",
   "metadata": {},
   "source": [
    "Foursquare API is the best application which is used worldwide to automate the characteristics of areas around a target location. For example, if you are standing at a certain location and want to search a nearby restaurant, coffee shop etc. then making use of foursquare api you can easily access the characteristics of the neighborhood. Once you have found a restaurant you want to know how would be its taste. Is it as per our taste requirement? For that purpose, we can extract the tips of customers for that restaurant and get overall sentiment results. This can be useful for investment purpose also. We can predict the sentiment score of that area, see the trends of sentiment according to menu, location, facilities etc. for that restaurant."
   ]
  },
  {
   "cell_type": "markdown",
   "metadata": {},
   "source": [
    "This is how it can be useful for business. If someone's line of business is related to hotels and restaurents then he would want to find the most profitable area. This project can help in finding that area. We can select few areas and then using foursquae API find nearby restaurents to each area. Finally do sentiment analysis of each of the area including its neighbourhood. The area with less positive sentiment score can be selected for the investment by bringing here the findings areas having most positive sentiments."
   ]
  },
  {
   "cell_type": "code",
   "execution_count": null,
   "metadata": {},
   "outputs": [],
   "source": []
  }
 ],
 "metadata": {
  "kernelspec": {
   "display_name": "Python 3.5",
   "language": "python",
   "name": "python3"
  },
  "language_info": {
   "codemirror_mode": {
    "name": "ipython",
    "version": 3
   },
   "file_extension": ".py",
   "mimetype": "text/x-python",
   "name": "python",
   "nbconvert_exporter": "python",
   "pygments_lexer": "ipython3",
   "version": "3.5.5"
  }
 },
 "nbformat": 4,
 "nbformat_minor": 1
}
