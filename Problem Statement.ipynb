{
 "cells": [
  {
   "cell_type": "markdown",
   "metadata": {
    "collapsed": true
   },
   "source": [
    "# Sentiment Analysis by Venues"
   ]
  },
  {
   "cell_type": "markdown",
   "metadata": {},
   "source": [
    "## Problem Statement"
   ]
  },
  {
   "cell_type": "markdown",
   "metadata": {},
   "source": [
    "Foursquare API is the best application which is used worldwide to automate the characteristics of areas around a target location. For example, if you are standing at a certain location and want to search a nearby restaurant, coffee shop etc. then making use of foursquare api you can easily access the characteristics of the neighborhood. Once you have found a restaurant you want to know how would be its taste. Is it as per our taste requirement? For that purpose, we can extract the tips of customers for that restaurant and get overall sentiment results. This can be useful for investment purpose also. We can predict the sentiment score of that area, see the trends of sentiment according to menu, location, facilities etc. for that restaurant."
   ]
  },
  {
   "cell_type": "code",
   "execution_count": null,
   "metadata": {},
   "outputs": [],
   "source": []
  }
 ],
 "metadata": {
  "kernelspec": {
   "display_name": "Python 3.5",
   "language": "python",
   "name": "python3"
  },
  "language_info": {
   "codemirror_mode": {
    "name": "ipython",
    "version": 3
   },
   "file_extension": ".py",
   "mimetype": "text/x-python",
   "name": "python",
   "nbconvert_exporter": "python",
   "pygments_lexer": "ipython3",
   "version": "3.5.5"
  }
 },
 "nbformat": 4,
 "nbformat_minor": 1
}
